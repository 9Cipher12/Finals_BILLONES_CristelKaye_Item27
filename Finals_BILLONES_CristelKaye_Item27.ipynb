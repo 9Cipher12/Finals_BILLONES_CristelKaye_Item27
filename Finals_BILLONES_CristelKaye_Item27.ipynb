{
  "nbformat": 4,
  "nbformat_minor": 0,
  "metadata": {
    "colab": {
      "provenance": []
    },
    "kernelspec": {
      "name": "python3",
      "display_name": "Python 3"
    },
    "language_info": {
      "name": "python"
    }
  },
  "cells": [
    {
      "cell_type": "code",
      "execution_count": 1,
      "metadata": {
        "id": "Zka9OJpG15KZ"
      },
      "outputs": [],
      "source": [
        "import numpy as np\n",
        "import pandas as pd\n",
        "from statsmodels.stats.anova import AnovaRM\n",
        "\n",
        "# Create the data\n",
        "dataframe = pd.DataFrame({'Cars': np.repeat([1, 2, 3, 4, 5], 4),\n",
        "                          'Oil': np.tile([1, 2, 3, 4], 5),\n",
        "                          'Mileage': [36, 38, 30, 29,\n",
        "                                      34, 38, 30, 29,\n",
        "                                      34, 28, 38, 32,\n",
        "                                      38, 34, 20, 44,\n",
        "                                      26, 28, 34, 50]})"
      ]
    },
    {
      "cell_type": "code",
      "source": [
        "from statsmodels.stats.anova import AnovaRM\n",
        "\n",
        "# Perform repeated-measures ANOVA\n",
        "anovarm = AnovaRM(dataframe, 'Mileage', 'Cars', within=['Oil'])\n",
        "results = anovarm.fit()\n",
        "\n",
        "print(results)\n"
      ],
      "metadata": {
        "colab": {
          "base_uri": "https://localhost:8080/"
        },
        "id": "anCuUn9_2cZI",
        "outputId": "db809b2b-51a3-4ea8-d92f-9d00443a4838"
      },
      "execution_count": 22,
      "outputs": [
        {
          "output_type": "stream",
          "name": "stdout",
          "text": [
            "              Anova\n",
            "=================================\n",
            "    F Value Num DF  Den DF Pr > F\n",
            "---------------------------------\n",
            "Oil  0.5679 3.0000 12.0000 0.6466\n",
            "=================================\n",
            "\n"
          ]
        }
      ]
    },
    {
      "cell_type": "code",
      "source": [
        "from scipy import stats\n",
        "k = len(dataframe['Oil'].unique())\n",
        "df1 = k - 1\n",
        "\n",
        "n = len(dataframe['Cars'].unique())\n",
        "r = stats.pearsonr(dataframe['Cars'], dataframe['Mileage'])[0]\n",
        "epsilon = (df1 * r - 1) / (df1 - 1)\n",
        "\n",
        "print(\"Sphericity Epsilon (Greenhouse-Geisser):\", epsilon)"
      ],
      "metadata": {
        "colab": {
          "base_uri": "https://localhost:8080/"
        },
        "id": "zKWf9azJ8Hj3",
        "outputId": "581ae782-2108-4ff5-adfd-db47792988c5"
      },
      "execution_count": 16,
      "outputs": [
        {
          "output_type": "stream",
          "name": "stdout",
          "text": [
            "Sphericity Epsilon (Greenhouse-Geisser): -0.3770326557905088\n"
          ]
        }
      ]
    },
    {
      "cell_type": "code",
      "source": [
        "from scipy.stats import shapiro\n",
        "\n",
        "# Test for Normality of 'Mileage' variable\n",
        "normality_test = shapiro(dataframe['Mileage'])\n",
        "\n",
        "print(\"\\nShapiro-Wilk Test for Normality of 'Mileage' variable:\")\n",
        "print(normality_test)\n"
      ],
      "metadata": {
        "colab": {
          "base_uri": "https://localhost:8080/"
        },
        "id": "pVhM6iwi9LPt",
        "outputId": "fc50e5d3-e0aa-43c1-bd09-e88de5f0a292"
      },
      "execution_count": 26,
      "outputs": [
        {
          "output_type": "stream",
          "name": "stdout",
          "text": [
            "\n",
            "Shapiro-Wilk Test for Normality of 'Mileage' variable:\n",
            "ShapiroResult(statistic=0.9589368104934692, pvalue=0.5228344798088074)\n"
          ]
        }
      ]
    },
    {
      "cell_type": "code",
      "source": [
        "from scipy.stats import levene\n",
        "\n",
        "# Test for Homogeneity of Variances\n",
        "homogeneity_test = levene(*[dataframe[dataframe['Oil'] == oil]['Mileage'] for oil in dataframe['Oil'].unique()])\n",
        "\n",
        "print(\"Levene's Test for Homogeneity of Variances:\")\n",
        "print(homogeneity_test)\n"
      ],
      "metadata": {
        "colab": {
          "base_uri": "https://localhost:8080/"
        },
        "id": "0_mrz8QW_s6L",
        "outputId": "438029a0-a29e-4579-a1a0-2cf307ae34bd"
      },
      "execution_count": 28,
      "outputs": [
        {
          "output_type": "stream",
          "name": "stdout",
          "text": [
            "Levene's Test for Homogeneity of Variances:\n",
            "LeveneResult(statistic=0.7321365716297078, pvalue=0.5478418985023898)\n"
          ]
        }
      ]
    }
  ]
}